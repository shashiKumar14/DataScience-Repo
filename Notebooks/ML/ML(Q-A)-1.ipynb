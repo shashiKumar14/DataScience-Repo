{
 "cells": [
  {
   "cell_type": "markdown",
   "id": "fffc9171",
   "metadata": {},
   "source": [
    "### 1.What is linear regression?"
   ]
  },
  {
   "cell_type": "markdown",
   "id": "e35d175b",
   "metadata": {},
   "source": [
    "1.In statistical method linear regression is used for predictive analysis.\n",
    "2.It shows linear relationship between dependent variable(y) and one or more independent variable(x)"
   ]
  },
  {
   "cell_type": "markdown",
   "id": "5319d426",
   "metadata": {},
   "source": [
    "### 2.How we can calculate error in linear regression?"
   ]
  },
  {
   "cell_type": "code",
   "execution_count": null,
   "id": "83c9340a",
   "metadata": {},
   "outputs": [],
   "source": [
    "Differnce between predicted value and actual value(real value)"
   ]
  },
  {
   "cell_type": "markdown",
   "id": "baeef15f",
   "metadata": {},
   "source": [
    "### 3.What is the difference between loss and cost function?"
   ]
  },
  {
   "cell_type": "code",
   "execution_count": null,
   "id": "2a5ceb49",
   "metadata": {},
   "outputs": [],
   "source": [
    "A function which associates cost with a decision"
   ]
  },
  {
   "cell_type": "markdown",
   "id": "1c6c1c9a",
   "metadata": {},
   "source": [
    "### 4.What is the difference between MAE & MSE & RMSE?"
   ]
  },
  {
   "cell_type": "code",
   "execution_count": null,
   "id": "2d080f84",
   "metadata": {},
   "outputs": [],
   "source": [
    "The loss function is to capture the difference between the actual and predicted values for a single record ,\n",
    "where as cost function aggregate the difference for the entire dataset"
   ]
  },
  {
   "cell_type": "markdown",
   "id": "f32fbf90",
   "metadata": {},
   "source": [
    "### 5.Explain how gradient descent work in a linear regression?"
   ]
  },
  {
   "cell_type": "code",
   "execution_count": null,
   "id": "cf8d6291",
   "metadata": {},
   "outputs": [],
   "source": []
  },
  {
   "cell_type": "markdown",
   "id": "da5cd9db",
   "metadata": {},
   "source": [
    "### 6.Explain the what is the intercept term mean?"
   ]
  },
  {
   "cell_type": "code",
   "execution_count": null,
   "id": "1fbdcd6e",
   "metadata": {},
   "outputs": [],
   "source": []
  },
  {
   "cell_type": "markdown",
   "id": "f80b7527",
   "metadata": {},
   "source": [
    "### 7.write all the assumption for linear regression?"
   ]
  },
  {
   "cell_type": "code",
   "execution_count": null,
   "id": "66909696",
   "metadata": {},
   "outputs": [],
   "source": []
  },
  {
   "cell_type": "markdown",
   "id": "613219e0",
   "metadata": {},
   "source": [
    "### 8.How is Hypothesis Testing using in linear regression?"
   ]
  },
  {
   "cell_type": "code",
   "execution_count": null,
   "id": "628b460a",
   "metadata": {},
   "outputs": [],
   "source": []
  },
  {
   "cell_type": "markdown",
   "id": "07e95db9",
   "metadata": {},
   "source": [
    "### 9.How would you decide the importance of variable for the multivariate regression?"
   ]
  },
  {
   "cell_type": "code",
   "execution_count": null,
   "id": "4fb27565",
   "metadata": {},
   "outputs": [],
   "source": []
  },
  {
   "cell_type": "markdown",
   "id": "e0db5c12",
   "metadata": {},
   "source": [
    "### 10.What is the differnce between R^2 and Adjusted R^2?"
   ]
  },
  {
   "cell_type": "code",
   "execution_count": null,
   "id": "c1de4fad",
   "metadata": {},
   "outputs": [],
   "source": []
  }
 ],
 "metadata": {
  "kernelspec": {
   "display_name": "Python 3 (ipykernel)",
   "language": "python",
   "name": "python3"
  },
  "language_info": {
   "codemirror_mode": {
    "name": "ipython",
    "version": 3
   },
   "file_extension": ".py",
   "mimetype": "text/x-python",
   "name": "python",
   "nbconvert_exporter": "python",
   "pygments_lexer": "ipython3",
   "version": "3.9.7"
  }
 },
 "nbformat": 4,
 "nbformat_minor": 5
}
