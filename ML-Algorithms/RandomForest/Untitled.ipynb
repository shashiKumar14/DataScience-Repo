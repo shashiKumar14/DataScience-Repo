{
 "cells": [
  {
   "cell_type": "code",
   "execution_count": null,
   "id": "34a720c3",
   "metadata": {},
   "outputs": [],
   "source": [
    "###use bagging classifier and regressor, extra tree classifier and regressor, voting classifier and regressor and random forest classifier and regressor on top of Household consumption data and census data\n",
    "\n",
    "\n",
    "\n",
    "\n",
    "data link: https://archive.ics.uci.edu/ml/datasets/individual+household+electric+power+consumption\n",
    "\n",
    "https://archive.ics.uci.edu/ml/datasets/census+income\n",
    "\n",
    "    \n",
    "Sklearn_link:\n",
    "\n",
    "https://scikit-learn.org/stable/modules/classes.html#module-sklearn.ensemble\n",
    "\n",
    "\n",
    "Submission form:\n",
    "\n",
    "https://forms.gle/qnVhjQ9bkwFT4vax5\n",
    "\n",
    "\n"
   ]
  }
 ],
 "metadata": {
  "kernelspec": {
   "display_name": "Python 3 (ipykernel)",
   "language": "python",
   "name": "python3"
  },
  "language_info": {
   "codemirror_mode": {
    "name": "ipython",
    "version": 3
   },
   "file_extension": ".py",
   "mimetype": "text/x-python",
   "name": "python",
   "nbconvert_exporter": "python",
   "pygments_lexer": "ipython3",
   "version": "3.9.7"
  }
 },
 "nbformat": 4,
 "nbformat_minor": 5
}
