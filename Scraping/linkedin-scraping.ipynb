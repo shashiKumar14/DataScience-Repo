{
 "cells": [
  {
   "cell_type": "code",
   "execution_count": 1,
   "id": "fb4f7342",
   "metadata": {},
   "outputs": [],
   "source": [
    "from selenium import webdriver\n",
    "from bs4 import BeautifulSoup as bs\n",
    "import time\n",
    "import pandas as pd\n",
    "import re as re\n",
    "from selenium.webdriver.common.by import By\n",
    "from selenium.webdriver.common.keys import Keys\n"
   ]
  },
  {
   "cell_type": "code",
   "execution_count": 2,
   "id": "bd31ed7d",
   "metadata": {},
   "outputs": [
    {
     "name": "stdout",
     "output_type": "stream",
     "text": [
      "Enter the Company Linkedin URL: https://www.linkedin.com/company/walking-tree-technologies/\n"
     ]
    }
   ],
   "source": [
    "#Get the Company's Linkedin URL from User\n",
    "page = input(\"Enter the Company Linkedin URL: \")#https://www.linkedin.com/company/walking-tree-technologies/\n",
    "company_name = page[33:-1]\n",
    "\n",
    "#See if existing user credential file exists or create one \n",
    "try:\n",
    "    f= open(\"linkedin_credentials.txt\",\"r\")\n",
    "    contents = f.read()\n",
    "    username = contents.split(\",\")[0]\n",
    "    password = contents.split(\",\")[1]\n",
    "except:\n",
    "    f= open(\"linkedin_credentials.txt\",\"w+\")\n",
    "    username = input('Enter your linkedin username: ')\n",
    "    password = input('Enter your linkedin password: ')\n",
    "    f.write(\"username={}, password={}\".format(username,password))\n",
    "    f.close()\n"
   ]
  },
  {
   "cell_type": "code",
   "execution_count": 3,
   "id": "cec7519c",
   "metadata": {},
   "outputs": [
    {
     "name": "stderr",
     "output_type": "stream",
     "text": [
      "/tmp/ipykernel_54081/3360710383.py:1: DeprecationWarning: executable_path has been deprecated, please pass in a Service object\n",
      "  browser = webdriver.Chrome('/home/walkingtree/selenium-folder/env/chromedriver/chromedriver')\n"
     ]
    }
   ],
   "source": [
    "browser = webdriver.Chrome('path/to/chrome/driver')\n",
    "\n",
    "\n",
    "#Open login page\n",
    "browser.get('https://www.linkedin.com/login?fromSignIn=true&trk=guest_homepage-basic_nav-header-signin')\n",
    "\n",
    "#Enter login info:\n",
    "elementID = browser.find_element(By.ID,'username')\n",
    "elementID.send_keys(username)\n",
    "\n",
    "elementID = browser.find_element(By.ID,'password')\n",
    "elementID.send_keys(password)\n",
    "# elementID.submit()\n"
   ]
  },
  {
   "cell_type": "code",
   "execution_count": 4,
   "id": "c9f7af5b",
   "metadata": {},
   "outputs": [],
   "source": [
    "#Go to company post webpage\n",
    "browser.get(page + 'posts/')\n",
    "\n",
    "\n",
    "#Simulate scrolling to capture all posts\n",
    "SCROLL_PAUSE_TIME = 1.5\n",
    "\n",
    "# Get scroll height\n",
    "last_height = browser.execute_script(\"return document.body.scrollHeight\")\n",
    "\n",
    "while True:\n",
    "    # Scroll down to bottom\n",
    "    browser.execute_script(\"window.scrollTo(0, document.body.scrollHeight);\")\n",
    "\n",
    "    # Wait to load page\n",
    "    time.sleep(SCROLL_PAUSE_TIME)\n",
    "\n",
    "    # Calculate new scroll height and compare with last scroll height\n",
    "    new_height = browser.execute_script(\"return document.body.scrollHeight\")\n",
    "    if new_height == last_height:\n",
    "        break\n",
    "    last_height = new_height"
   ]
  },
  {
   "cell_type": "code",
   "execution_count": 5,
   "id": "3c62251a",
   "metadata": {},
   "outputs": [],
   "source": [
    "#Check out page source code\n",
    "company_page = browser.page_source  \n",
    "\n",
    "\n",
    "#Use Beautiful Soup to get access tags\n",
    "linkedin_soup = bs(company_page.encode(\"utf-8\"), \"html\")\n",
    "linkedin_soup.prettify()\n",
    "\n",
    "#Find the post blocks\n",
    "containers = linkedin_soup.findAll(\"div\",{\"class\":\"occludable-update ember-view\"})\n",
    "\n"
   ]
  },
  {
   "cell_type": "code",
   "execution_count": 6,
   "id": "3ce30d7b",
   "metadata": {},
   "outputs": [],
   "source": [
    "# Lists that we will iterate to\n",
    "post_dates = []\n",
    "post_texts = []\n",
    "post_likes = []\n",
    "post_comments = []\n",
    "video_views = []\n",
    "media_links = []\n",
    "media_type = []\n",
    "\n",
    "\n",
    "#Looping through the posts and appending them to the lists\n",
    "for container in containers:\n",
    "    \n",
    "    #Try function to make sure its a post and not a promotion\n",
    "    try:\n",
    "        posted_date = container.find(\"span\",{\"class\":\"visually-hidden\"})\n",
    "        text_box = container.find(\"div\",{\"class\":\"feed-shared-update-v2__description-wrapper ember-view\"})\n",
    "        text = text_box.find(\"span\",{\"dir\":\"ltr\"})\n",
    "        new_likes = container.findAll(\"li\", {\"class\":\"social-details-social-counts__reactions social-details-social-counts__item\"})\n",
    "        new_comments = container.findAll(\"li\", {\"class\": \"social-details-social-counts__comments social-details-social-counts__item\"})\n",
    "\n",
    "        #Appending date and text to lists\n",
    "        post_dates.append(posted_date.text.strip())\n",
    "        post_texts.append(text_box.text.strip())\n",
    "\n",
    "\n",
    "        #Determining media type and collecting relevant info for each type\n",
    "        try:\n",
    "            video_box = container.findAll(\"div\",{\"class\": \"feed-shared-update-v2__content feed-shared-linkedin-video ember-view\"})\n",
    "            video_link = video_box[0].find(\"video\", {\"class\":\"vjs-tech\"})\n",
    "            media_links.append(video_link['src'])\n",
    "            media_type.append(\"Video\")\n",
    "        except:\n",
    "            try:\n",
    "                image_box = container.findAll(\"div\",{\"class\": \"feed-shared-image__container\"})\n",
    "                image_link = image_box[0].find(\"img\", {\"class\":\"ivm-view-attr__img--centered feed-shared-image__image feed-shared-image__image--constrained lazy-image ember-view\"})\n",
    "                media_links.append(image_link['src'])\n",
    "                media_type.append(\"Image\")\n",
    "            except:\n",
    "                try:\n",
    "                    image_box = container.findAll(\"div\",{\"class\": \"feed-shared-image__container\"})\n",
    "                    image_link = image_box[0].find(\"img\", {\"class\":\"ivm-view-attr__img--centered feed-shared-image__image lazy-image ember-view\"})\n",
    "                    media_links.append(image_link['src'])\n",
    "                    media_type.append(\"Image\")\n",
    "                except:\n",
    "                    try:\n",
    "                        article_box = container.findAll(\"div\",{\"class\": \"feed-shared-article__description-container\"})\n",
    "                        article_link = article_box[0].find('a', href=True)\n",
    "                        media_links.append(article_link['href'])\n",
    "                        media_type.append(\"Article\")\n",
    "                    except:\n",
    "                        try:\n",
    "                            video_box = container.findAll(\"div\",{\"class\": \"feed-shared-external-video__meta\"})          \n",
    "                            video_link = video_box[0].find('a', href=True)\n",
    "                            media_links.append(video_link['href'])\n",
    "                            media_type.append(\"Youtube Video\")   \n",
    "                        except:\n",
    "                            try:\n",
    "                                poll_box = container.findAll(\"div\",{\"class\": \"feed-shared-update-v2__content overflow-hidden feed-shared-poll ember-view\"})\n",
    "                                media_links.append(\"None\")\n",
    "                                media_type.append(\"Other: Poll, Shared Post, etc\")\n",
    "                            except:\n",
    "                                media_links.append(\"None\")\n",
    "                                media_type.append(\"Unknown\")\n",
    "\n",
    "\n",
    "\n",
    "        #Getting Video Views. (The folling three lines prevents class name overlap)\n",
    "        view_container2 = set(container.findAll(\"li\", {'class':[\"social-details-social-counts__item\"]}))\n",
    "        view_container1 = set(container.findAll(\"li\", {'class':[\"social-details-social-counts__reactions\",\"social-details-social-counts__comments social-details-social-counts__item\"]}))\n",
    "        result = view_container2 - view_container1\n",
    "\n",
    "        view_container = []\n",
    "        for i in result:\n",
    "            view_container += i\n",
    "\n",
    "        try:\n",
    "            video_views.append(view_container[1].text.strip().replace(' Views',''))\n",
    "\n",
    "        except:\n",
    "            video_views.append('N/A')\n",
    "\n",
    "        \n",
    "        #Appending likes and comments if they exist\n",
    "        try:\n",
    "            post_likes.append(new_likes[0].text.strip())\n",
    "        except:\n",
    "            post_likes.append(0)\n",
    "            pass\n",
    "\n",
    "        try:\n",
    "            post_comments.append(new_comments[0].text.strip())                           \n",
    "        except:                                                           \n",
    "            post_comments.append(0)\n",
    "            pass\n",
    "    \n",
    "    except:\n",
    "        pass\n"
   ]
  },
  {
   "cell_type": "code",
   "execution_count": 7,
   "id": "77d1b69b",
   "metadata": {},
   "outputs": [],
   "source": [
    "#Stripping non-numeric values\n",
    "comment_count = []\n",
    "for i in post_comments:\n",
    "    s = str(i).replace('Comment','').replace('s','').replace(' ','')\n",
    "    comment_count += [s]\n"
   ]
  },
  {
   "cell_type": "code",
   "execution_count": 8,
   "id": "aea0fed6",
   "metadata": {},
   "outputs": [],
   "source": [
    "data = {\n",
    "    \"Date Posted\": post_dates,\n",
    "    \"Media Type\": media_type,\n",
    "    \"Post Text\": post_texts,\n",
    "    \"Post Likes\": post_likes,\n",
    "    \"Post Comments\": comment_count,\n",
    "    \"Video Views\": video_views,\n",
    "    \"Media Links\": media_links\n",
    "}\n",
    "\n",
    "df = pd.DataFrame(data)\n",
    "\n",
    "\n"
   ]
  },
  {
   "cell_type": "code",
   "execution_count": 9,
   "id": "873b6775",
   "metadata": {},
   "outputs": [
    {
     "data": {
      "text/html": [
       "<div>\n",
       "<style scoped>\n",
       "    .dataframe tbody tr th:only-of-type {\n",
       "        vertical-align: middle;\n",
       "    }\n",
       "\n",
       "    .dataframe tbody tr th {\n",
       "        vertical-align: top;\n",
       "    }\n",
       "\n",
       "    .dataframe thead th {\n",
       "        text-align: right;\n",
       "    }\n",
       "</style>\n",
       "<table border=\"1\" class=\"dataframe\">\n",
       "  <thead>\n",
       "    <tr style=\"text-align: right;\">\n",
       "      <th></th>\n",
       "      <th>Date Posted</th>\n",
       "      <th>Media Type</th>\n",
       "      <th>Post Text</th>\n",
       "      <th>Post Likes</th>\n",
       "      <th>Post Comments</th>\n",
       "      <th>Video Views</th>\n",
       "      <th>Media Links</th>\n",
       "    </tr>\n",
       "  </thead>\n",
       "  <tbody>\n",
       "  </tbody>\n",
       "</table>\n",
       "</div>"
      ],
      "text/plain": [
       "Empty DataFrame\n",
       "Columns: [Date Posted, Media Type, Post Text, Post Likes, Post Comments, Video Views, Media Links]\n",
       "Index: []"
      ]
     },
     "execution_count": 9,
     "metadata": {},
     "output_type": "execute_result"
    }
   ],
   "source": [
    "df"
   ]
  },
  {
   "cell_type": "code",
   "execution_count": null,
   "id": "0408d1a6",
   "metadata": {},
   "outputs": [],
   "source": [
    "# #Exporting as csv file to program folder\n",
    "# df.to_csv(\"{}_posts.csv\".format(company_name), encoding='utf-8', index=False)\n",
    "\n",
    "# #Export to Excel file to program folder\n",
    "# writer = pd.ExcelWriter(\"{}_posts.xlsx\".format(company_name), engine='xlsxwriter')\n",
    "# df.to_excel(writer, index =False)\n",
    "# writer.save()"
   ]
  }
 ],
 "metadata": {
  "kernelspec": {
   "display_name": "Python 3 (ipykernel)",
   "language": "python",
   "name": "python3"
  },
  "language_info": {
   "codemirror_mode": {
    "name": "ipython",
    "version": 3
   },
   "file_extension": ".py",
   "mimetype": "text/x-python",
   "name": "python",
   "nbconvert_exporter": "python",
   "pygments_lexer": "ipython3",
   "version": "3.9.12"
  }
 },
 "nbformat": 4,
 "nbformat_minor": 5
}
