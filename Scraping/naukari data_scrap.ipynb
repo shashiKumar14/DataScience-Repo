{
 "cells": [
  {
   "cell_type": "code",
   "execution_count": 33,
   "id": "d4454c88",
   "metadata": {},
   "outputs": [],
   "source": [
    "from selenium.common.exceptions import NoSuchElementException\n",
    "from selenium import webdriver\n",
    "import time\n",
    "import pandas as pd\n",
    "from selenium.webdriver.common.by import By"
   ]
  },
  {
   "cell_type": "code",
   "execution_count": 54,
   "id": "5a610e90",
   "metadata": {},
   "outputs": [
    {
     "name": "stderr",
     "output_type": "stream",
     "text": [
      "/tmp/ipykernel_54535/2566092828.py:3: DeprecationWarning: executable_path has been deprecated, please pass in a Service object\n",
      "  driver = webdriver.Chrome(executable_path=\"/home/walkingtree/bot/chromedriver/chromedriver\", options=options)\n"
     ]
    }
   ],
   "source": [
    "# initializing the chromedriver\n",
    "options = webdriver.ChromeOptions()\n",
    "driver = webdriver.Chrome(executable_path=\"path/to/chrome/driver\", options=options)"
   ]
  },
  {
   "cell_type": "code",
   "execution_count": 55,
   "id": "2eb8c8ba",
   "metadata": {},
   "outputs": [],
   "source": [
    "# opening the URL\n",
    "driver.get(\"https://www.naukri.com/\")"
   ]
  },
  {
   "cell_type": "code",
   "execution_count": 36,
   "id": "0a008f06",
   "metadata": {},
   "outputs": [],
   "source": [
    "# #looping through all the open  windows and closing ones that are not needed\n",
    "# for winId in popup_windows:\n",
    "#     if winId != Main_Window: \n",
    "#         driver.switch_to.window(winId)\n",
    "#         driver.close()"
   ]
  },
  {
   "cell_type": "code",
   "execution_count": 60,
   "id": "82960887",
   "metadata": {},
   "outputs": [],
   "source": [
    "# Searching using the keyword\n",
    "driver.find_element(By.CSS_SELECTOR,\"#root > div.qsbWrapper > div > div > div.keywordSugg > div > div > div > input\").send_keys(\"ml\")\n",
    "driver.find_element(By.CLASS_NAME,\"qsbSubmit\").click()"
   ]
  },
  {
   "cell_type": "code",
   "execution_count": 38,
   "id": "246d2d24",
   "metadata": {},
   "outputs": [
    {
     "data": {
      "text/plain": [
       "'https://www.naukri.com/ml-jobs?k=ml'"
      ]
     },
     "execution_count": 38,
     "metadata": {},
     "output_type": "execute_result"
    }
   ],
   "source": [
    "get_url = driver.current_url\n",
    "get_url"
   ]
  },
  {
   "cell_type": "code",
   "execution_count": 39,
   "id": "c3527e8c",
   "metadata": {},
   "outputs": [
    {
     "data": {
      "text/plain": [
       "('https://www.naukri.com/ml-jobs', 'k=ml')"
      ]
     },
     "execution_count": 39,
     "metadata": {},
     "output_type": "execute_result"
    }
   ],
   "source": [
    "# getting the two parts of the url by splitting with \"?\"\n",
    "first_part = get_url.split(\"?\")[0]\n",
    "second_part = get_url.split(\"?\")[-1]\n",
    "first_part,second_part"
   ]
  },
  {
   "cell_type": "code",
   "execution_count": 40,
   "id": "4513646c",
   "metadata": {},
   "outputs": [],
   "source": [
    "# defining empty lists to store the parsed values\n",
    "Title =      []\n",
    "Company =    []\n",
    "Experience = []\n",
    "Salary =     []\n",
    "Location =   []\n",
    "Tags =       []\n",
    "Reviews =    []\n",
    "Ratings =    []\n",
    "Job_Type =   []\n",
    "Posted =     []"
   ]
  },
  {
   "cell_type": "code",
   "execution_count": 41,
   "id": "df162343",
   "metadata": {},
   "outputs": [
    {
     "ename": "NameError",
     "evalue": "name 'num_of_jobs' is not defined",
     "output_type": "error",
     "traceback": [
      "\u001b[0;31m---------------------------------------------------------------------------\u001b[0m",
      "\u001b[0;31mNameError\u001b[0m                                 Traceback (most recent call last)",
      "Input \u001b[0;32mIn [41]\u001b[0m, in \u001b[0;36m<cell line: 1>\u001b[0;34m()\u001b[0m\n\u001b[0;32m----> 1\u001b[0m \u001b[38;5;28mrange\u001b[39m(\u001b[38;5;241m1\u001b[39m,\u001b[38;5;28mint\u001b[39m(\u001b[43mnum_of_jobs\u001b[49m\u001b[38;5;241m/\u001b[39m\u001b[38;5;241m20\u001b[39m)\u001b[38;5;241m+\u001b[39m\u001b[38;5;241m1\u001b[39m)\n",
      "\u001b[0;31mNameError\u001b[0m: name 'num_of_jobs' is not defined"
     ]
    }
   ],
   "source": [
    "range(1,int(num_of_jobs/20)+1)"
   ]
  },
  {
   "cell_type": "code",
   "execution_count": 42,
   "id": "224b33ab",
   "metadata": {},
   "outputs": [
    {
     "ename": "NameError",
     "evalue": "name 'i' is not defined",
     "output_type": "error",
     "traceback": [
      "\u001b[0;31m---------------------------------------------------------------------------\u001b[0m",
      "\u001b[0;31mNameError\u001b[0m                                 Traceback (most recent call last)",
      "Input \u001b[0;32mIn [42]\u001b[0m, in \u001b[0;36m<cell line: 1>\u001b[0;34m()\u001b[0m\n\u001b[0;32m----> 1\u001b[0m url \u001b[38;5;241m=\u001b[39m first_part\u001b[38;5;241m+\u001b[39m\u001b[38;5;124m\"\u001b[39m\u001b[38;5;124m-\u001b[39m\u001b[38;5;124m\"\u001b[39m\u001b[38;5;241m+\u001b[39m\u001b[38;5;28mstr\u001b[39m(\u001b[43mi\u001b[49m)\u001b[38;5;241m+\u001b[39m\u001b[38;5;124m\"\u001b[39m\u001b[38;5;124m?\u001b[39m\u001b[38;5;124m\"\u001b[39m\u001b[38;5;241m+\u001b[39msecond_part\n\u001b[1;32m      2\u001b[0m url\n",
      "\u001b[0;31mNameError\u001b[0m: name 'i' is not defined"
     ]
    }
   ],
   "source": [
    "url = first_part+\"-\"+str(i)+\"?\"+second_part\n",
    "url"
   ]
  },
  {
   "cell_type": "code",
   "execution_count": 44,
   "id": "8a7a4aef",
   "metadata": {},
   "outputs": [],
   "source": [
    "driver.get(get_url)\n"
   ]
  },
  {
   "cell_type": "code",
   "execution_count": null,
   "id": "709335f4",
   "metadata": {},
   "outputs": [],
   "source": []
  },
  {
   "cell_type": "code",
   "execution_count": 46,
   "id": "89e2a508",
   "metadata": {},
   "outputs": [
    {
     "data": {
      "text/plain": [
       "[<selenium.webdriver.remote.webelement.WebElement (session=\"f58f4556cab02c7089d443d29757d653\", element=\"fd3432db-81cd-44e0-a7ad-ccf54a715d4d\")>,\n",
       " <selenium.webdriver.remote.webelement.WebElement (session=\"f58f4556cab02c7089d443d29757d653\", element=\"7a994c2e-4c98-4498-8ffe-dd218cb47e93\")>,\n",
       " <selenium.webdriver.remote.webelement.WebElement (session=\"f58f4556cab02c7089d443d29757d653\", element=\"97ce8b87-6d91-4c54-8e1b-4831d97fca86\")>,\n",
       " <selenium.webdriver.remote.webelement.WebElement (session=\"f58f4556cab02c7089d443d29757d653\", element=\"4bf29dd5-3fdb-4dba-93be-1290025b3060\")>,\n",
       " <selenium.webdriver.remote.webelement.WebElement (session=\"f58f4556cab02c7089d443d29757d653\", element=\"035b644e-2a65-4196-bbe8-7fecfc2b1a9a\")>,\n",
       " <selenium.webdriver.remote.webelement.WebElement (session=\"f58f4556cab02c7089d443d29757d653\", element=\"3afc3b2e-c8c2-46d4-88f0-8f4cad0adb86\")>,\n",
       " <selenium.webdriver.remote.webelement.WebElement (session=\"f58f4556cab02c7089d443d29757d653\", element=\"51e96098-3e6e-4121-ab2a-9a5c948f2bd3\")>,\n",
       " <selenium.webdriver.remote.webelement.WebElement (session=\"f58f4556cab02c7089d443d29757d653\", element=\"67cece6f-216b-4d05-b1c0-5a6f61f90dde\")>,\n",
       " <selenium.webdriver.remote.webelement.WebElement (session=\"f58f4556cab02c7089d443d29757d653\", element=\"511d690c-af20-4048-ba32-23bb03fc40e2\")>,\n",
       " <selenium.webdriver.remote.webelement.WebElement (session=\"f58f4556cab02c7089d443d29757d653\", element=\"90df9469-e283-4232-9abf-fa858cc719a1\")>,\n",
       " <selenium.webdriver.remote.webelement.WebElement (session=\"f58f4556cab02c7089d443d29757d653\", element=\"3c92df08-0afa-4a23-8c18-6cb68f13650d\")>,\n",
       " <selenium.webdriver.remote.webelement.WebElement (session=\"f58f4556cab02c7089d443d29757d653\", element=\"bbbdcd36-19bf-4a54-a2a9-aacbc63f633e\")>,\n",
       " <selenium.webdriver.remote.webelement.WebElement (session=\"f58f4556cab02c7089d443d29757d653\", element=\"e3b8df10-2121-43e5-99a6-6356cf202670\")>,\n",
       " <selenium.webdriver.remote.webelement.WebElement (session=\"f58f4556cab02c7089d443d29757d653\", element=\"f4d69b0f-4efb-4520-aa75-21a72b0c27aa\")>,\n",
       " <selenium.webdriver.remote.webelement.WebElement (session=\"f58f4556cab02c7089d443d29757d653\", element=\"69a92f76-0a78-46fb-bc45-f5d66405f274\")>,\n",
       " <selenium.webdriver.remote.webelement.WebElement (session=\"f58f4556cab02c7089d443d29757d653\", element=\"b43401ec-5965-4d79-a7ad-334edc3623eb\")>,\n",
       " <selenium.webdriver.remote.webelement.WebElement (session=\"f58f4556cab02c7089d443d29757d653\", element=\"8500944c-9424-4118-aa92-d58b6efd7a4a\")>,\n",
       " <selenium.webdriver.remote.webelement.WebElement (session=\"f58f4556cab02c7089d443d29757d653\", element=\"3f0d23a3-235d-428f-a3a2-e2f30c692a3d\")>,\n",
       " <selenium.webdriver.remote.webelement.WebElement (session=\"f58f4556cab02c7089d443d29757d653\", element=\"2f153143-1ed4-4b25-8d3f-2509f00f6106\")>,\n",
       " <selenium.webdriver.remote.webelement.WebElement (session=\"f58f4556cab02c7089d443d29757d653\", element=\"fc71e28b-56a3-45f2-9de2-aae615dfb17a\")>]"
      ]
     },
     "execution_count": 46,
     "metadata": {},
     "output_type": "execute_result"
    }
   ],
   "source": [
    "job_list = driver.find_elements(By.CLASS_NAME,\"jobTuple.bgWhite.br4.mb-8\")\n",
    "job_list"
   ]
  },
  {
   "cell_type": "code",
   "execution_count": 49,
   "id": "94b9c165",
   "metadata": {},
   "outputs": [],
   "source": [
    "# getting the number of days before which the job was posted\n",
    "try: \n",
    "    days = driver.find_element(By.CSS_SELECTOR,'div.type.br2.fleft.grey').text\n",
    "    Posted.append(days)\n",
    "except NoSuchElementException:\n",
    "    try:\n",
    "        days = driver.find_element(By.CSS_SELECTOR,'div.type.br2.fleft.green').text\n",
    "        Posted.append(days)\n",
    "    except NoSuchElementException:\n",
    "        Posted.append(None)"
   ]
  },
  {
   "cell_type": "code",
   "execution_count": 50,
   "id": "33c56ac7",
   "metadata": {},
   "outputs": [],
   "source": [
    "# initializing empty dataframe \n",
    "df = pd.DataFrame()"
   ]
  },
  {
   "cell_type": "code",
   "execution_count": 51,
   "id": "55262bda",
   "metadata": {},
   "outputs": [],
   "source": [
    "# assigning values to dataframe columns\n",
    "df['Title'] =      Title\n",
    "df['Company'] =    Company\n",
    "df['Experience'] = Experience\n",
    "df['Location'] =   Location\n",
    "df['Tags'] =       Tags\n",
    "df['Ratings'] =    Ratings\n",
    "df['Reviews'] =    Reviews\n",
    "df['Salary'] =     Salary\n",
    "df['Job_Type'] =   Job_Type\n",
    "df['Posted'] =     Posted"
   ]
  },
  {
   "cell_type": "code",
   "execution_count": 52,
   "id": "dc11c906",
   "metadata": {},
   "outputs": [
    {
     "data": {
      "text/html": [
       "<div>\n",
       "<style scoped>\n",
       "    .dataframe tbody tr th:only-of-type {\n",
       "        vertical-align: middle;\n",
       "    }\n",
       "\n",
       "    .dataframe tbody tr th {\n",
       "        vertical-align: top;\n",
       "    }\n",
       "\n",
       "    .dataframe thead th {\n",
       "        text-align: right;\n",
       "    }\n",
       "</style>\n",
       "<table border=\"1\" class=\"dataframe\">\n",
       "  <thead>\n",
       "    <tr style=\"text-align: right;\">\n",
       "      <th></th>\n",
       "      <th>Title</th>\n",
       "      <th>Company</th>\n",
       "      <th>Experience</th>\n",
       "      <th>Location</th>\n",
       "      <th>Tags</th>\n",
       "      <th>Ratings</th>\n",
       "      <th>Reviews</th>\n",
       "      <th>Salary</th>\n",
       "      <th>Job_Type</th>\n",
       "      <th>Posted</th>\n",
       "    </tr>\n",
       "  </thead>\n",
       "  <tbody>\n",
       "    <tr>\n",
       "      <th>0</th>\n",
       "      <td>NaN</td>\n",
       "      <td>NaN</td>\n",
       "      <td>NaN</td>\n",
       "      <td>NaN</td>\n",
       "      <td>NaN</td>\n",
       "      <td>NaN</td>\n",
       "      <td>NaN</td>\n",
       "      <td>NaN</td>\n",
       "      <td>NaN</td>\n",
       "      <td>9 DAYS AGO</td>\n",
       "    </tr>\n",
       "  </tbody>\n",
       "</table>\n",
       "</div>"
      ],
      "text/plain": [
       "   Title  Company  Experience  Location  Tags  Ratings  Reviews  Salary  \\\n",
       "0    NaN      NaN         NaN       NaN   NaN      NaN      NaN     NaN   \n",
       "\n",
       "   Job_Type      Posted  \n",
       "0       NaN  9 DAYS AGO  "
      ]
     },
     "execution_count": 52,
     "metadata": {},
     "output_type": "execute_result"
    }
   ],
   "source": [
    "df"
   ]
  },
  {
   "cell_type": "code",
   "execution_count": null,
   "id": "ec901213",
   "metadata": {},
   "outputs": [],
   "source": [
    "#root > div.search-result-container > div > section.listContainer.fleft > div.list > article:nth-child(1) > div.jobTupleFooter.mt-20 > div.type.br2.fleft.grey > span"
   ]
  },
  {
   "cell_type": "code",
   "execution_count": null,
   "id": "c2881f33",
   "metadata": {},
   "outputs": [],
   "source": []
  },
  {
   "cell_type": "code",
   "execution_count": null,
   "id": "ae4fe02c",
   "metadata": {},
   "outputs": [],
   "source": []
  },
  {
   "cell_type": "code",
   "execution_count": null,
   "id": "712c0494",
   "metadata": {},
   "outputs": [],
   "source": []
  },
  {
   "cell_type": "code",
   "execution_count": null,
   "id": "7b0163a7",
   "metadata": {},
   "outputs": [],
   "source": []
  },
  {
   "cell_type": "code",
   "execution_count": null,
   "id": "11707a0d",
   "metadata": {},
   "outputs": [],
   "source": []
  },
  {
   "cell_type": "code",
   "execution_count": null,
   "id": "0893885b",
   "metadata": {},
   "outputs": [],
   "source": []
  },
  {
   "cell_type": "code",
   "execution_count": null,
   "id": "71ca4709",
   "metadata": {},
   "outputs": [],
   "source": []
  },
  {
   "cell_type": "code",
   "execution_count": null,
   "id": "1470843e",
   "metadata": {},
   "outputs": [],
   "source": []
  }
 ],
 "metadata": {
  "kernelspec": {
   "display_name": "Python 3 (ipykernel)",
   "language": "python",
   "name": "python3"
  },
  "language_info": {
   "codemirror_mode": {
    "name": "ipython",
    "version": 3
   },
   "file_extension": ".py",
   "mimetype": "text/x-python",
   "name": "python",
   "nbconvert_exporter": "python",
   "pygments_lexer": "ipython3",
   "version": "3.9.12"
  }
 },
 "nbformat": 4,
 "nbformat_minor": 5
}
